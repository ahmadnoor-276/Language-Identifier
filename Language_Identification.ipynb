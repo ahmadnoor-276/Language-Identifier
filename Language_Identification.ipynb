{
  "nbformat": 4,
  "nbformat_minor": 0,
  "metadata": {
    "colab": {
      "provenance": []
    },
    "kernelspec": {
      "name": "python3",
      "display_name": "Python 3"
    },
    "language_info": {
      "name": "python"
    }
  },
  "cells": [
    {
      "cell_type": "code",
      "execution_count": 246,
      "metadata": {
        "id": "kFNwroaxDG3o"
      },
      "outputs": [],
      "source": [
        "#Important libraries\n",
        "import pandas as pd\n",
        "import numpy as np # linear algebra\n",
        "import pandas as pd # data processing, CSV file I/O (e.g. pd.read_csv)\n",
        "\n",
        "import tensorflow as tf\n",
        "from tensorflow.keras import layers\n",
        "from tensorflow.keras import losses\n",
        "from tensorflow.keras import preprocessing\n",
        "from tensorflow.keras.layers.experimental.preprocessing import TextVectorization\n",
        "\n",
        "from sklearn.model_selection import train_test_split\n",
        "from sklearn import preprocessing"
      ]
    },
    {
      "cell_type": "code",
      "source": [
        "#Reading data set\n",
        "df = pd.read_csv(\"/content/dataset.csv\", header = 0)\n",
        "\n",
        "df.head()"
      ],
      "metadata": {
        "colab": {
          "base_uri": "https://localhost:8080/",
          "height": 206
        },
        "id": "oCbtiS9lDRxe",
        "outputId": "bee28989-8fff-4ed9-c7bd-d855232eef14"
      },
      "execution_count": 247,
      "outputs": [
        {
          "output_type": "execute_result",
          "data": {
            "text/plain": [
              "                                                Text  language\n",
              "0  klement gottwaldi surnukeha palsameeriti ning ...  Estonian\n",
              "1  sebes joseph pereira thomas  på eng the jesuit...   Swedish\n",
              "2  ถนนเจริญกรุง อักษรโรมัน thanon charoen krung เ...      Thai\n",
              "3  விசாகப்பட்டினம் தமிழ்ச்சங்கத்தை இந்துப் பத்திர...     Tamil\n",
              "4  de spons behoort tot het geslacht haliclona en...     Dutch"
            ],
            "text/html": [
              "\n",
              "  <div id=\"df-d37337b2-1466-46a9-81b2-25ad4a36474c\" class=\"colab-df-container\">\n",
              "    <div>\n",
              "<style scoped>\n",
              "    .dataframe tbody tr th:only-of-type {\n",
              "        vertical-align: middle;\n",
              "    }\n",
              "\n",
              "    .dataframe tbody tr th {\n",
              "        vertical-align: top;\n",
              "    }\n",
              "\n",
              "    .dataframe thead th {\n",
              "        text-align: right;\n",
              "    }\n",
              "</style>\n",
              "<table border=\"1\" class=\"dataframe\">\n",
              "  <thead>\n",
              "    <tr style=\"text-align: right;\">\n",
              "      <th></th>\n",
              "      <th>Text</th>\n",
              "      <th>language</th>\n",
              "    </tr>\n",
              "  </thead>\n",
              "  <tbody>\n",
              "    <tr>\n",
              "      <th>0</th>\n",
              "      <td>klement gottwaldi surnukeha palsameeriti ning ...</td>\n",
              "      <td>Estonian</td>\n",
              "    </tr>\n",
              "    <tr>\n",
              "      <th>1</th>\n",
              "      <td>sebes joseph pereira thomas  på eng the jesuit...</td>\n",
              "      <td>Swedish</td>\n",
              "    </tr>\n",
              "    <tr>\n",
              "      <th>2</th>\n",
              "      <td>ถนนเจริญกรุง อักษรโรมัน thanon charoen krung เ...</td>\n",
              "      <td>Thai</td>\n",
              "    </tr>\n",
              "    <tr>\n",
              "      <th>3</th>\n",
              "      <td>விசாகப்பட்டினம் தமிழ்ச்சங்கத்தை இந்துப் பத்திர...</td>\n",
              "      <td>Tamil</td>\n",
              "    </tr>\n",
              "    <tr>\n",
              "      <th>4</th>\n",
              "      <td>de spons behoort tot het geslacht haliclona en...</td>\n",
              "      <td>Dutch</td>\n",
              "    </tr>\n",
              "  </tbody>\n",
              "</table>\n",
              "</div>\n",
              "    <div class=\"colab-df-buttons\">\n",
              "\n",
              "  <div class=\"colab-df-container\">\n",
              "    <button class=\"colab-df-convert\" onclick=\"convertToInteractive('df-d37337b2-1466-46a9-81b2-25ad4a36474c')\"\n",
              "            title=\"Convert this dataframe to an interactive table.\"\n",
              "            style=\"display:none;\">\n",
              "\n",
              "  <svg xmlns=\"http://www.w3.org/2000/svg\" height=\"24px\" viewBox=\"0 -960 960 960\">\n",
              "    <path d=\"M120-120v-720h720v720H120Zm60-500h600v-160H180v160Zm220 220h160v-160H400v160Zm0 220h160v-160H400v160ZM180-400h160v-160H180v160Zm440 0h160v-160H620v160ZM180-180h160v-160H180v160Zm440 0h160v-160H620v160Z\"/>\n",
              "  </svg>\n",
              "    </button>\n",
              "\n",
              "  <style>\n",
              "    .colab-df-container {\n",
              "      display:flex;\n",
              "      gap: 12px;\n",
              "    }\n",
              "\n",
              "    .colab-df-convert {\n",
              "      background-color: #E8F0FE;\n",
              "      border: none;\n",
              "      border-radius: 50%;\n",
              "      cursor: pointer;\n",
              "      display: none;\n",
              "      fill: #1967D2;\n",
              "      height: 32px;\n",
              "      padding: 0 0 0 0;\n",
              "      width: 32px;\n",
              "    }\n",
              "\n",
              "    .colab-df-convert:hover {\n",
              "      background-color: #E2EBFA;\n",
              "      box-shadow: 0px 1px 2px rgba(60, 64, 67, 0.3), 0px 1px 3px 1px rgba(60, 64, 67, 0.15);\n",
              "      fill: #174EA6;\n",
              "    }\n",
              "\n",
              "    .colab-df-buttons div {\n",
              "      margin-bottom: 4px;\n",
              "    }\n",
              "\n",
              "    [theme=dark] .colab-df-convert {\n",
              "      background-color: #3B4455;\n",
              "      fill: #D2E3FC;\n",
              "    }\n",
              "\n",
              "    [theme=dark] .colab-df-convert:hover {\n",
              "      background-color: #434B5C;\n",
              "      box-shadow: 0px 1px 3px 1px rgba(0, 0, 0, 0.15);\n",
              "      filter: drop-shadow(0px 1px 2px rgba(0, 0, 0, 0.3));\n",
              "      fill: #FFFFFF;\n",
              "    }\n",
              "  </style>\n",
              "\n",
              "    <script>\n",
              "      const buttonEl =\n",
              "        document.querySelector('#df-d37337b2-1466-46a9-81b2-25ad4a36474c button.colab-df-convert');\n",
              "      buttonEl.style.display =\n",
              "        google.colab.kernel.accessAllowed ? 'block' : 'none';\n",
              "\n",
              "      async function convertToInteractive(key) {\n",
              "        const element = document.querySelector('#df-d37337b2-1466-46a9-81b2-25ad4a36474c');\n",
              "        const dataTable =\n",
              "          await google.colab.kernel.invokeFunction('convertToInteractive',\n",
              "                                                    [key], {});\n",
              "        if (!dataTable) return;\n",
              "\n",
              "        const docLinkHtml = 'Like what you see? Visit the ' +\n",
              "          '<a target=\"_blank\" href=https://colab.research.google.com/notebooks/data_table.ipynb>data table notebook</a>'\n",
              "          + ' to learn more about interactive tables.';\n",
              "        element.innerHTML = '';\n",
              "        dataTable['output_type'] = 'display_data';\n",
              "        await google.colab.output.renderOutput(dataTable, element);\n",
              "        const docLink = document.createElement('div');\n",
              "        docLink.innerHTML = docLinkHtml;\n",
              "        element.appendChild(docLink);\n",
              "      }\n",
              "    </script>\n",
              "  </div>\n",
              "\n",
              "\n",
              "<div id=\"df-a21cb748-f528-48c3-afd3-24da3fe512fe\">\n",
              "  <button class=\"colab-df-quickchart\" onclick=\"quickchart('df-a21cb748-f528-48c3-afd3-24da3fe512fe')\"\n",
              "            title=\"Suggest charts\"\n",
              "            style=\"display:none;\">\n",
              "\n",
              "<svg xmlns=\"http://www.w3.org/2000/svg\" height=\"24px\"viewBox=\"0 0 24 24\"\n",
              "     width=\"24px\">\n",
              "    <g>\n",
              "        <path d=\"M19 3H5c-1.1 0-2 .9-2 2v14c0 1.1.9 2 2 2h14c1.1 0 2-.9 2-2V5c0-1.1-.9-2-2-2zM9 17H7v-7h2v7zm4 0h-2V7h2v10zm4 0h-2v-4h2v4z\"/>\n",
              "    </g>\n",
              "</svg>\n",
              "  </button>\n",
              "\n",
              "<style>\n",
              "  .colab-df-quickchart {\n",
              "      --bg-color: #E8F0FE;\n",
              "      --fill-color: #1967D2;\n",
              "      --hover-bg-color: #E2EBFA;\n",
              "      --hover-fill-color: #174EA6;\n",
              "      --disabled-fill-color: #AAA;\n",
              "      --disabled-bg-color: #DDD;\n",
              "  }\n",
              "\n",
              "  [theme=dark] .colab-df-quickchart {\n",
              "      --bg-color: #3B4455;\n",
              "      --fill-color: #D2E3FC;\n",
              "      --hover-bg-color: #434B5C;\n",
              "      --hover-fill-color: #FFFFFF;\n",
              "      --disabled-bg-color: #3B4455;\n",
              "      --disabled-fill-color: #666;\n",
              "  }\n",
              "\n",
              "  .colab-df-quickchart {\n",
              "    background-color: var(--bg-color);\n",
              "    border: none;\n",
              "    border-radius: 50%;\n",
              "    cursor: pointer;\n",
              "    display: none;\n",
              "    fill: var(--fill-color);\n",
              "    height: 32px;\n",
              "    padding: 0;\n",
              "    width: 32px;\n",
              "  }\n",
              "\n",
              "  .colab-df-quickchart:hover {\n",
              "    background-color: var(--hover-bg-color);\n",
              "    box-shadow: 0 1px 2px rgba(60, 64, 67, 0.3), 0 1px 3px 1px rgba(60, 64, 67, 0.15);\n",
              "    fill: var(--button-hover-fill-color);\n",
              "  }\n",
              "\n",
              "  .colab-df-quickchart-complete:disabled,\n",
              "  .colab-df-quickchart-complete:disabled:hover {\n",
              "    background-color: var(--disabled-bg-color);\n",
              "    fill: var(--disabled-fill-color);\n",
              "    box-shadow: none;\n",
              "  }\n",
              "\n",
              "  .colab-df-spinner {\n",
              "    border: 2px solid var(--fill-color);\n",
              "    border-color: transparent;\n",
              "    border-bottom-color: var(--fill-color);\n",
              "    animation:\n",
              "      spin 1s steps(1) infinite;\n",
              "  }\n",
              "\n",
              "  @keyframes spin {\n",
              "    0% {\n",
              "      border-color: transparent;\n",
              "      border-bottom-color: var(--fill-color);\n",
              "      border-left-color: var(--fill-color);\n",
              "    }\n",
              "    20% {\n",
              "      border-color: transparent;\n",
              "      border-left-color: var(--fill-color);\n",
              "      border-top-color: var(--fill-color);\n",
              "    }\n",
              "    30% {\n",
              "      border-color: transparent;\n",
              "      border-left-color: var(--fill-color);\n",
              "      border-top-color: var(--fill-color);\n",
              "      border-right-color: var(--fill-color);\n",
              "    }\n",
              "    40% {\n",
              "      border-color: transparent;\n",
              "      border-right-color: var(--fill-color);\n",
              "      border-top-color: var(--fill-color);\n",
              "    }\n",
              "    60% {\n",
              "      border-color: transparent;\n",
              "      border-right-color: var(--fill-color);\n",
              "    }\n",
              "    80% {\n",
              "      border-color: transparent;\n",
              "      border-right-color: var(--fill-color);\n",
              "      border-bottom-color: var(--fill-color);\n",
              "    }\n",
              "    90% {\n",
              "      border-color: transparent;\n",
              "      border-bottom-color: var(--fill-color);\n",
              "    }\n",
              "  }\n",
              "</style>\n",
              "\n",
              "  <script>\n",
              "    async function quickchart(key) {\n",
              "      const quickchartButtonEl =\n",
              "        document.querySelector('#' + key + ' button');\n",
              "      quickchartButtonEl.disabled = true;  // To prevent multiple clicks.\n",
              "      quickchartButtonEl.classList.add('colab-df-spinner');\n",
              "      try {\n",
              "        const charts = await google.colab.kernel.invokeFunction(\n",
              "            'suggestCharts', [key], {});\n",
              "      } catch (error) {\n",
              "        console.error('Error during call to suggestCharts:', error);\n",
              "      }\n",
              "      quickchartButtonEl.classList.remove('colab-df-spinner');\n",
              "      quickchartButtonEl.classList.add('colab-df-quickchart-complete');\n",
              "    }\n",
              "    (() => {\n",
              "      let quickchartButtonEl =\n",
              "        document.querySelector('#df-a21cb748-f528-48c3-afd3-24da3fe512fe button');\n",
              "      quickchartButtonEl.style.display =\n",
              "        google.colab.kernel.accessAllowed ? 'block' : 'none';\n",
              "    })();\n",
              "  </script>\n",
              "</div>\n",
              "\n",
              "    </div>\n",
              "  </div>\n"
            ]
          },
          "metadata": {},
          "execution_count": 247
        }
      ]
    },
    {
      "cell_type": "code",
      "source": [
        "#Counting null values if any\n",
        "df.isna().sum()"
      ],
      "metadata": {
        "colab": {
          "base_uri": "https://localhost:8080/"
        },
        "id": "IKKXCxKhGLCJ",
        "outputId": "85677116-9018-4521-83a0-98c8920128bf"
      },
      "execution_count": 250,
      "outputs": [
        {
          "output_type": "execute_result",
          "data": {
            "text/plain": [
              "Text        0\n",
              "language    0\n",
              "dtype: int64"
            ]
          },
          "metadata": {},
          "execution_count": 250
        }
      ]
    },
    {
      "cell_type": "code",
      "source": [
        "#Counting columns per each language\n",
        "df[\"language\"].value_counts()"
      ],
      "metadata": {
        "colab": {
          "base_uri": "https://localhost:8080/"
        },
        "id": "hnGivLddFmQr",
        "outputId": "fcd23508-b8a7-4f91-b955-afe17666439c"
      },
      "execution_count": 251,
      "outputs": [
        {
          "output_type": "execute_result",
          "data": {
            "text/plain": [
              "Estonian      1000\n",
              "Swedish       1000\n",
              "English       1000\n",
              "Russian       1000\n",
              "Romanian      1000\n",
              "Persian       1000\n",
              "Pushto        1000\n",
              "Spanish       1000\n",
              "Hindi         1000\n",
              "Korean        1000\n",
              "Chinese       1000\n",
              "French        1000\n",
              "Portugese     1000\n",
              "Indonesian    1000\n",
              "Urdu          1000\n",
              "Latin         1000\n",
              "Turkish       1000\n",
              "Japanese      1000\n",
              "Dutch         1000\n",
              "Tamil         1000\n",
              "Thai          1000\n",
              "Arabic        1000\n",
              "Name: language, dtype: int64"
            ]
          },
          "metadata": {},
          "execution_count": 251
        }
      ]
    },
    {
      "cell_type": "code",
      "source": [
        "#Giving Label interms of 0 and 1\n",
        "#Adding new columns in original dataset by appending prefix at the end\n",
        "def onehot_encode(df, columns, prefixes):\n",
        "    df = df.copy()\n",
        "    for column, prefix in zip(columns, prefixes):\n",
        "        dummies = pd.get_dummies(df[column], prefix=prefix)\n",
        "        df = pd.concat([df, dummies], axis=1)\n",
        "        df = df.drop(column, axis=1)\n",
        "    return df"
      ],
      "metadata": {
        "id": "lk82BEAfHmZz"
      },
      "execution_count": 252,
      "outputs": []
    },
    {
      "cell_type": "code",
      "source": [
        "df = onehot_encode(\n",
        "    df,\n",
        "    columns=['language'],\n",
        "    prefixes=['lan']\n",
        ")"
      ],
      "metadata": {
        "id": "a2k3pYEDLMwe"
      },
      "execution_count": 253,
      "outputs": []
    },
    {
      "cell_type": "code",
      "source": [
        "#Printing the updated data_set\n",
        "df.head()"
      ],
      "metadata": {
        "colab": {
          "base_uri": "https://localhost:8080/",
          "height": 429
        },
        "id": "W_Izn8wCLftm",
        "outputId": "36f7bad1-8a94-46bb-97a7-6fdf32d08753"
      },
      "execution_count": 254,
      "outputs": [
        {
          "output_type": "execute_result",
          "data": {
            "text/plain": [
              "                                                Text  lan_Arabic  lan_Chinese  \\\n",
              "0  klement gottwaldi surnukeha palsameeriti ning ...           0            0   \n",
              "1  sebes joseph pereira thomas  på eng the jesuit...           0            0   \n",
              "2  ถนนเจริญกรุง อักษรโรมัน thanon charoen krung เ...           0            0   \n",
              "3  விசாகப்பட்டினம் தமிழ்ச்சங்கத்தை இந்துப் பத்திர...           0            0   \n",
              "4  de spons behoort tot het geslacht haliclona en...           0            0   \n",
              "\n",
              "   lan_Dutch  lan_English  lan_Estonian  lan_French  lan_Hindi  \\\n",
              "0          0            0             1           0          0   \n",
              "1          0            0             0           0          0   \n",
              "2          0            0             0           0          0   \n",
              "3          0            0             0           0          0   \n",
              "4          1            0             0           0          0   \n",
              "\n",
              "   lan_Indonesian  lan_Japanese  ...  lan_Portugese  lan_Pushto  lan_Romanian  \\\n",
              "0               0             0  ...              0           0             0   \n",
              "1               0             0  ...              0           0             0   \n",
              "2               0             0  ...              0           0             0   \n",
              "3               0             0  ...              0           0             0   \n",
              "4               0             0  ...              0           0             0   \n",
              "\n",
              "   lan_Russian  lan_Spanish  lan_Swedish  lan_Tamil  lan_Thai  lan_Turkish  \\\n",
              "0            0            0            0          0         0            0   \n",
              "1            0            0            1          0         0            0   \n",
              "2            0            0            0          0         1            0   \n",
              "3            0            0            0          1         0            0   \n",
              "4            0            0            0          0         0            0   \n",
              "\n",
              "   lan_Urdu  \n",
              "0         0  \n",
              "1         0  \n",
              "2         0  \n",
              "3         0  \n",
              "4         0  \n",
              "\n",
              "[5 rows x 23 columns]"
            ],
            "text/html": [
              "\n",
              "  <div id=\"df-f8ed3a78-b26c-4bac-b59e-711dbafe59ac\" class=\"colab-df-container\">\n",
              "    <div>\n",
              "<style scoped>\n",
              "    .dataframe tbody tr th:only-of-type {\n",
              "        vertical-align: middle;\n",
              "    }\n",
              "\n",
              "    .dataframe tbody tr th {\n",
              "        vertical-align: top;\n",
              "    }\n",
              "\n",
              "    .dataframe thead th {\n",
              "        text-align: right;\n",
              "    }\n",
              "</style>\n",
              "<table border=\"1\" class=\"dataframe\">\n",
              "  <thead>\n",
              "    <tr style=\"text-align: right;\">\n",
              "      <th></th>\n",
              "      <th>Text</th>\n",
              "      <th>lan_Arabic</th>\n",
              "      <th>lan_Chinese</th>\n",
              "      <th>lan_Dutch</th>\n",
              "      <th>lan_English</th>\n",
              "      <th>lan_Estonian</th>\n",
              "      <th>lan_French</th>\n",
              "      <th>lan_Hindi</th>\n",
              "      <th>lan_Indonesian</th>\n",
              "      <th>lan_Japanese</th>\n",
              "      <th>...</th>\n",
              "      <th>lan_Portugese</th>\n",
              "      <th>lan_Pushto</th>\n",
              "      <th>lan_Romanian</th>\n",
              "      <th>lan_Russian</th>\n",
              "      <th>lan_Spanish</th>\n",
              "      <th>lan_Swedish</th>\n",
              "      <th>lan_Tamil</th>\n",
              "      <th>lan_Thai</th>\n",
              "      <th>lan_Turkish</th>\n",
              "      <th>lan_Urdu</th>\n",
              "    </tr>\n",
              "  </thead>\n",
              "  <tbody>\n",
              "    <tr>\n",
              "      <th>0</th>\n",
              "      <td>klement gottwaldi surnukeha palsameeriti ning ...</td>\n",
              "      <td>0</td>\n",
              "      <td>0</td>\n",
              "      <td>0</td>\n",
              "      <td>0</td>\n",
              "      <td>1</td>\n",
              "      <td>0</td>\n",
              "      <td>0</td>\n",
              "      <td>0</td>\n",
              "      <td>0</td>\n",
              "      <td>...</td>\n",
              "      <td>0</td>\n",
              "      <td>0</td>\n",
              "      <td>0</td>\n",
              "      <td>0</td>\n",
              "      <td>0</td>\n",
              "      <td>0</td>\n",
              "      <td>0</td>\n",
              "      <td>0</td>\n",
              "      <td>0</td>\n",
              "      <td>0</td>\n",
              "    </tr>\n",
              "    <tr>\n",
              "      <th>1</th>\n",
              "      <td>sebes joseph pereira thomas  på eng the jesuit...</td>\n",
              "      <td>0</td>\n",
              "      <td>0</td>\n",
              "      <td>0</td>\n",
              "      <td>0</td>\n",
              "      <td>0</td>\n",
              "      <td>0</td>\n",
              "      <td>0</td>\n",
              "      <td>0</td>\n",
              "      <td>0</td>\n",
              "      <td>...</td>\n",
              "      <td>0</td>\n",
              "      <td>0</td>\n",
              "      <td>0</td>\n",
              "      <td>0</td>\n",
              "      <td>0</td>\n",
              "      <td>1</td>\n",
              "      <td>0</td>\n",
              "      <td>0</td>\n",
              "      <td>0</td>\n",
              "      <td>0</td>\n",
              "    </tr>\n",
              "    <tr>\n",
              "      <th>2</th>\n",
              "      <td>ถนนเจริญกรุง อักษรโรมัน thanon charoen krung เ...</td>\n",
              "      <td>0</td>\n",
              "      <td>0</td>\n",
              "      <td>0</td>\n",
              "      <td>0</td>\n",
              "      <td>0</td>\n",
              "      <td>0</td>\n",
              "      <td>0</td>\n",
              "      <td>0</td>\n",
              "      <td>0</td>\n",
              "      <td>...</td>\n",
              "      <td>0</td>\n",
              "      <td>0</td>\n",
              "      <td>0</td>\n",
              "      <td>0</td>\n",
              "      <td>0</td>\n",
              "      <td>0</td>\n",
              "      <td>0</td>\n",
              "      <td>1</td>\n",
              "      <td>0</td>\n",
              "      <td>0</td>\n",
              "    </tr>\n",
              "    <tr>\n",
              "      <th>3</th>\n",
              "      <td>விசாகப்பட்டினம் தமிழ்ச்சங்கத்தை இந்துப் பத்திர...</td>\n",
              "      <td>0</td>\n",
              "      <td>0</td>\n",
              "      <td>0</td>\n",
              "      <td>0</td>\n",
              "      <td>0</td>\n",
              "      <td>0</td>\n",
              "      <td>0</td>\n",
              "      <td>0</td>\n",
              "      <td>0</td>\n",
              "      <td>...</td>\n",
              "      <td>0</td>\n",
              "      <td>0</td>\n",
              "      <td>0</td>\n",
              "      <td>0</td>\n",
              "      <td>0</td>\n",
              "      <td>0</td>\n",
              "      <td>1</td>\n",
              "      <td>0</td>\n",
              "      <td>0</td>\n",
              "      <td>0</td>\n",
              "    </tr>\n",
              "    <tr>\n",
              "      <th>4</th>\n",
              "      <td>de spons behoort tot het geslacht haliclona en...</td>\n",
              "      <td>0</td>\n",
              "      <td>0</td>\n",
              "      <td>1</td>\n",
              "      <td>0</td>\n",
              "      <td>0</td>\n",
              "      <td>0</td>\n",
              "      <td>0</td>\n",
              "      <td>0</td>\n",
              "      <td>0</td>\n",
              "      <td>...</td>\n",
              "      <td>0</td>\n",
              "      <td>0</td>\n",
              "      <td>0</td>\n",
              "      <td>0</td>\n",
              "      <td>0</td>\n",
              "      <td>0</td>\n",
              "      <td>0</td>\n",
              "      <td>0</td>\n",
              "      <td>0</td>\n",
              "      <td>0</td>\n",
              "    </tr>\n",
              "  </tbody>\n",
              "</table>\n",
              "<p>5 rows × 23 columns</p>\n",
              "</div>\n",
              "    <div class=\"colab-df-buttons\">\n",
              "\n",
              "  <div class=\"colab-df-container\">\n",
              "    <button class=\"colab-df-convert\" onclick=\"convertToInteractive('df-f8ed3a78-b26c-4bac-b59e-711dbafe59ac')\"\n",
              "            title=\"Convert this dataframe to an interactive table.\"\n",
              "            style=\"display:none;\">\n",
              "\n",
              "  <svg xmlns=\"http://www.w3.org/2000/svg\" height=\"24px\" viewBox=\"0 -960 960 960\">\n",
              "    <path d=\"M120-120v-720h720v720H120Zm60-500h600v-160H180v160Zm220 220h160v-160H400v160Zm0 220h160v-160H400v160ZM180-400h160v-160H180v160Zm440 0h160v-160H620v160ZM180-180h160v-160H180v160Zm440 0h160v-160H620v160Z\"/>\n",
              "  </svg>\n",
              "    </button>\n",
              "\n",
              "  <style>\n",
              "    .colab-df-container {\n",
              "      display:flex;\n",
              "      gap: 12px;\n",
              "    }\n",
              "\n",
              "    .colab-df-convert {\n",
              "      background-color: #E8F0FE;\n",
              "      border: none;\n",
              "      border-radius: 50%;\n",
              "      cursor: pointer;\n",
              "      display: none;\n",
              "      fill: #1967D2;\n",
              "      height: 32px;\n",
              "      padding: 0 0 0 0;\n",
              "      width: 32px;\n",
              "    }\n",
              "\n",
              "    .colab-df-convert:hover {\n",
              "      background-color: #E2EBFA;\n",
              "      box-shadow: 0px 1px 2px rgba(60, 64, 67, 0.3), 0px 1px 3px 1px rgba(60, 64, 67, 0.15);\n",
              "      fill: #174EA6;\n",
              "    }\n",
              "\n",
              "    .colab-df-buttons div {\n",
              "      margin-bottom: 4px;\n",
              "    }\n",
              "\n",
              "    [theme=dark] .colab-df-convert {\n",
              "      background-color: #3B4455;\n",
              "      fill: #D2E3FC;\n",
              "    }\n",
              "\n",
              "    [theme=dark] .colab-df-convert:hover {\n",
              "      background-color: #434B5C;\n",
              "      box-shadow: 0px 1px 3px 1px rgba(0, 0, 0, 0.15);\n",
              "      filter: drop-shadow(0px 1px 2px rgba(0, 0, 0, 0.3));\n",
              "      fill: #FFFFFF;\n",
              "    }\n",
              "  </style>\n",
              "\n",
              "    <script>\n",
              "      const buttonEl =\n",
              "        document.querySelector('#df-f8ed3a78-b26c-4bac-b59e-711dbafe59ac button.colab-df-convert');\n",
              "      buttonEl.style.display =\n",
              "        google.colab.kernel.accessAllowed ? 'block' : 'none';\n",
              "\n",
              "      async function convertToInteractive(key) {\n",
              "        const element = document.querySelector('#df-f8ed3a78-b26c-4bac-b59e-711dbafe59ac');\n",
              "        const dataTable =\n",
              "          await google.colab.kernel.invokeFunction('convertToInteractive',\n",
              "                                                    [key], {});\n",
              "        if (!dataTable) return;\n",
              "\n",
              "        const docLinkHtml = 'Like what you see? Visit the ' +\n",
              "          '<a target=\"_blank\" href=https://colab.research.google.com/notebooks/data_table.ipynb>data table notebook</a>'\n",
              "          + ' to learn more about interactive tables.';\n",
              "        element.innerHTML = '';\n",
              "        dataTable['output_type'] = 'display_data';\n",
              "        await google.colab.output.renderOutput(dataTable, element);\n",
              "        const docLink = document.createElement('div');\n",
              "        docLink.innerHTML = docLinkHtml;\n",
              "        element.appendChild(docLink);\n",
              "      }\n",
              "    </script>\n",
              "  </div>\n",
              "\n",
              "\n",
              "<div id=\"df-eb4c73ec-8fa0-4afd-bdac-9b572ffee456\">\n",
              "  <button class=\"colab-df-quickchart\" onclick=\"quickchart('df-eb4c73ec-8fa0-4afd-bdac-9b572ffee456')\"\n",
              "            title=\"Suggest charts\"\n",
              "            style=\"display:none;\">\n",
              "\n",
              "<svg xmlns=\"http://www.w3.org/2000/svg\" height=\"24px\"viewBox=\"0 0 24 24\"\n",
              "     width=\"24px\">\n",
              "    <g>\n",
              "        <path d=\"M19 3H5c-1.1 0-2 .9-2 2v14c0 1.1.9 2 2 2h14c1.1 0 2-.9 2-2V5c0-1.1-.9-2-2-2zM9 17H7v-7h2v7zm4 0h-2V7h2v10zm4 0h-2v-4h2v4z\"/>\n",
              "    </g>\n",
              "</svg>\n",
              "  </button>\n",
              "\n",
              "<style>\n",
              "  .colab-df-quickchart {\n",
              "      --bg-color: #E8F0FE;\n",
              "      --fill-color: #1967D2;\n",
              "      --hover-bg-color: #E2EBFA;\n",
              "      --hover-fill-color: #174EA6;\n",
              "      --disabled-fill-color: #AAA;\n",
              "      --disabled-bg-color: #DDD;\n",
              "  }\n",
              "\n",
              "  [theme=dark] .colab-df-quickchart {\n",
              "      --bg-color: #3B4455;\n",
              "      --fill-color: #D2E3FC;\n",
              "      --hover-bg-color: #434B5C;\n",
              "      --hover-fill-color: #FFFFFF;\n",
              "      --disabled-bg-color: #3B4455;\n",
              "      --disabled-fill-color: #666;\n",
              "  }\n",
              "\n",
              "  .colab-df-quickchart {\n",
              "    background-color: var(--bg-color);\n",
              "    border: none;\n",
              "    border-radius: 50%;\n",
              "    cursor: pointer;\n",
              "    display: none;\n",
              "    fill: var(--fill-color);\n",
              "    height: 32px;\n",
              "    padding: 0;\n",
              "    width: 32px;\n",
              "  }\n",
              "\n",
              "  .colab-df-quickchart:hover {\n",
              "    background-color: var(--hover-bg-color);\n",
              "    box-shadow: 0 1px 2px rgba(60, 64, 67, 0.3), 0 1px 3px 1px rgba(60, 64, 67, 0.15);\n",
              "    fill: var(--button-hover-fill-color);\n",
              "  }\n",
              "\n",
              "  .colab-df-quickchart-complete:disabled,\n",
              "  .colab-df-quickchart-complete:disabled:hover {\n",
              "    background-color: var(--disabled-bg-color);\n",
              "    fill: var(--disabled-fill-color);\n",
              "    box-shadow: none;\n",
              "  }\n",
              "\n",
              "  .colab-df-spinner {\n",
              "    border: 2px solid var(--fill-color);\n",
              "    border-color: transparent;\n",
              "    border-bottom-color: var(--fill-color);\n",
              "    animation:\n",
              "      spin 1s steps(1) infinite;\n",
              "  }\n",
              "\n",
              "  @keyframes spin {\n",
              "    0% {\n",
              "      border-color: transparent;\n",
              "      border-bottom-color: var(--fill-color);\n",
              "      border-left-color: var(--fill-color);\n",
              "    }\n",
              "    20% {\n",
              "      border-color: transparent;\n",
              "      border-left-color: var(--fill-color);\n",
              "      border-top-color: var(--fill-color);\n",
              "    }\n",
              "    30% {\n",
              "      border-color: transparent;\n",
              "      border-left-color: var(--fill-color);\n",
              "      border-top-color: var(--fill-color);\n",
              "      border-right-color: var(--fill-color);\n",
              "    }\n",
              "    40% {\n",
              "      border-color: transparent;\n",
              "      border-right-color: var(--fill-color);\n",
              "      border-top-color: var(--fill-color);\n",
              "    }\n",
              "    60% {\n",
              "      border-color: transparent;\n",
              "      border-right-color: var(--fill-color);\n",
              "    }\n",
              "    80% {\n",
              "      border-color: transparent;\n",
              "      border-right-color: var(--fill-color);\n",
              "      border-bottom-color: var(--fill-color);\n",
              "    }\n",
              "    90% {\n",
              "      border-color: transparent;\n",
              "      border-bottom-color: var(--fill-color);\n",
              "    }\n",
              "  }\n",
              "</style>\n",
              "\n",
              "  <script>\n",
              "    async function quickchart(key) {\n",
              "      const quickchartButtonEl =\n",
              "        document.querySelector('#' + key + ' button');\n",
              "      quickchartButtonEl.disabled = true;  // To prevent multiple clicks.\n",
              "      quickchartButtonEl.classList.add('colab-df-spinner');\n",
              "      try {\n",
              "        const charts = await google.colab.kernel.invokeFunction(\n",
              "            'suggestCharts', [key], {});\n",
              "      } catch (error) {\n",
              "        console.error('Error during call to suggestCharts:', error);\n",
              "      }\n",
              "      quickchartButtonEl.classList.remove('colab-df-spinner');\n",
              "      quickchartButtonEl.classList.add('colab-df-quickchart-complete');\n",
              "    }\n",
              "    (() => {\n",
              "      let quickchartButtonEl =\n",
              "        document.querySelector('#df-eb4c73ec-8fa0-4afd-bdac-9b572ffee456 button');\n",
              "      quickchartButtonEl.style.display =\n",
              "        google.colab.kernel.accessAllowed ? 'block' : 'none';\n",
              "    })();\n",
              "  </script>\n",
              "</div>\n",
              "\n",
              "    </div>\n",
              "  </div>\n"
            ]
          },
          "metadata": {},
          "execution_count": 254
        }
      ]
    },
    {
      "cell_type": "code",
      "source": [
        "#Spliting the data set\n",
        "#Text in one columns X\n",
        "#Labels in the other column y\n",
        "y = df.drop('Text', axis=1)\n",
        "X = df['Text']"
      ],
      "metadata": {
        "id": "fK5MoOaqMhCR"
      },
      "execution_count": 255,
      "outputs": []
    },
    {
      "cell_type": "code",
      "source": [
        "# Split data into training and testing\n",
        "X_train, X_test, y_train, y_test = train_test_split(X, y, train_size=0.7, random_state=17)"
      ],
      "metadata": {
        "id": "swpSghRxNpnP"
      },
      "execution_count": 256,
      "outputs": []
    },
    {
      "cell_type": "code",
      "source": [
        "# Turn pandas dataframe into TensorFlow Dataset\n",
        "raw_train_dataset = tf.data.Dataset.from_tensor_slices((X_train.values, y_train.values))\n",
        "raw_test_dataset = tf.data.Dataset.from_tensor_slices((X_test.values, y_test.values))\n"
      ],
      "metadata": {
        "id": "Ki1TDM00ONvS"
      },
      "execution_count": 257,
      "outputs": []
    },
    {
      "cell_type": "code",
      "source": [
        "# Create batches for training the model\n",
        "batch_size = 32\n",
        "raw_train_dataset = raw_train_dataset.batch(batch_size)\n",
        "raw_test_dataset = raw_test_dataset.batch(batch_size)"
      ],
      "metadata": {
        "id": "kyM7CSeQOasD"
      },
      "execution_count": 258,
      "outputs": []
    },
    {
      "cell_type": "code",
      "source": [
        "# Print labels as example by providing one batch\n",
        "#Converting the tensorflow dataset into numpy array for easier handling\n",
        "for text_batch, label_batch in raw_train_dataset.take(1):\n",
        "    for i in range(3):\n",
        "        print(\"Review:\", text_batch.numpy()[i])\n",
        "        print(\"Label:\", label_batch.numpy()[i])\n"
      ],
      "metadata": {
        "colab": {
          "base_uri": "https://localhost:8080/"
        },
        "id": "0YdFXJy_O9Z0",
        "outputId": "21b3dac1-65f2-4fa0-99a2-94f43e28ea51"
      },
      "execution_count": 259,
      "outputs": [
        {
          "output_type": "stream",
          "name": "stdout",
          "text": [
            "Review: b'\\xd8\\xa7\\xd8\\xb3 \\xda\\xa9\\xdb\\x92 \\xd8\\xb9\\xd9\\x84\\xd8\\xa7\\xd9\\x88\\xdb\\x81 \\xd8\\xa7\\xda\\xaf\\xd8\\xb1 \\xd8\\xaa\\xd9\\x85\\xdb\\x81\\xd8\\xa7\\xd8\\xb1\\xdb\\x8c \\xd8\\xaf\\xd9\\x84\\xdb\\x8c\\xd9\\x84 \\xdb\\x8c\\xdb\\x81\\xdb\\x8c \\xdb\\x81\\xdb\\x92 \\xda\\xa9\\xdb\\x81 \\xda\\x86\\xd9\\x88\\xd9\\x86\\xda\\xa9\\xdb\\x81 \\xd8\\xac\\xd9\\x86\\xd8\\xa7\\xd8\\xa8 \\xd8\\xa7\\xd8\\xa8\\xd8\\xb1\\xd8\\xa7\\xdb\\x81\\xdb\\x8c\\xd9\\x85 \\xd8\\xb9\\xd9\\x84\\xdb\\x8c\\xdb\\x81 \\xd8\\xa7\\xd9\\x84\\xd8\\xb3\\xd9\\x84\\xd8\\xa7\\xd9\\x85 \\xd8\\xae\\xd9\\x84\\xdb\\x8c\\xd9\\x84 \\xd8\\xae\\xd8\\xaf\\xd8\\xa7 \\xdb\\x81\\xdb\\x8c\\xda\\xba \\xd9\\x84\\xdb\\x81\\xd9\\xb0\\xd8\\xb0\\xd8\\xa7 \\xd9\\x88\\xdb\\x81 \\xd8\\xae\\xd8\\xaf\\xd8\\xa7 \\xda\\xa9\\xdb\\x92 \\xd8\\xa8\\xdb\\x8c\\xd9\\xb9\\xdb\\x92 \\xdb\\x81\\xdb\\x8c\\xda\\xba \\xd8\\xaa\\xd9\\x88 \\xd8\\xa7\\xd8\\xb3 \\xd8\\xa8\\xd9\\x86\\xdb\\x8c\\xd8\\xa7\\xd8\\xaf \\xd9\\xbe\\xd8\\xb1 \\xd8\\xaa\\xd9\\x85\\xdb\\x81\\xdb\\x8c\\xda\\xba \\xdb\\x8c\\xdb\\x81 \\xd8\\xa8\\xda\\xbe\\xdb\\x8c \\xda\\xa9\\xdb\\x81\\xd9\\x86\\xd8\\xa7 \\xda\\x86\\xd8\\xa7\\xdb\\x81\\xd8\\xa6\\xdb\\x92 \\xda\\xa9\\xdb\\x81 \\xd8\\xac\\xd9\\x86\\xd8\\xa7\\xd8\\xa8 \\xd9\\x85\\xd9\\x88\\xd8\\xb3\\xdb\\x8c\\xd9\\xb0 \\xd8\\xb9\\xd9\\x84\\xdb\\x8c\\xdb\\x81 \\xd8\\xa7\\xd9\\x84\\xd8\\xb3\\xd9\\x84\\xd8\\xa7\\xd9\\x85 \\xd8\\xa8\\xda\\xbe\\xdb\\x8c \\xd8\\xae\\xd8\\xaf\\xd8\\xa7 \\xda\\xa9\\xdb\\x92 \\xd8\\xa8\\xdb\\x8c\\xd9\\xb9\\xdb\\x92 \\xdb\\x81\\xdb\\x8c\\xda\\xba \\xd8\\xa8\\xd9\\x84\\xda\\xa9\\xdb\\x81 \\xd8\\xac\\xd8\\xb3 \\xd8\\xb7\\xd8\\xb1\\xd8\\xad \\xd9\\x85\\xdb\\x8c\\xda\\xba \\xd9\\x86\\xdb\\x92 \\xdb\\x8c\\xdb\\x81\\xd9\\x88\\xd8\\xaf\\xdb\\x8c \\xda\\xaf\\xd8\\xb1\\xd9\\x88\\xdb\\x81 \\xd8\\xb3\\xdb\\x92 \\xda\\xa9\\xdb\\x81\\xd8\\xa7 \\xd8\\xa7\\xda\\xaf\\xd8\\xb1 \\xdb\\x8c\\xdb\\x81 \\xd8\\xb7\\xdb\\x92 \\xdb\\x81\\xd9\\x88 \\xda\\xa9\\xdb\\x81 \\xd9\\x84\\xd9\\x88\\xda\\xaf\\xd9\\x88\\xda\\xba \\xda\\xa9\\xdb\\x92 \\xd9\\x85\\xd9\\x82\\xd8\\xa7\\xd9\\x85 \\xd9\\x88 \\xd8\\xb9\\xd8\\xb8\\xd9\\x85\\xd8\\xaa \\xda\\xa9\\xdb\\x8c \\xd9\\x88\\xd8\\xac\\xdb\\x81 \\xd8\\xb3\\xdb\\x92 \\xdb\\x8c\\xdb\\x81 \\xd9\\x86\\xd8\\xb3\\xd8\\xa8\\xd8\\xaa\\xdb\\x8c\\xda\\xba \\xd8\\xb5\\xd8\\xad\\xdb\\x8c\\xd8\\xad \\xdb\\x81\\xd9\\x88\\xda\\xba \\xd8\\xaa\\xd9\\x88 \\xda\\xa9\\xdb\\x81\\xd9\\x86\\xd8\\xa7 \\xda\\x86\\xd8\\xa7\\xdb\\x81\\xd8\\xa6\\xdb\\x92 \\xda\\xa9\\xdb\\x81 \\xd8\\xac\\xd9\\x86\\xd8\\xa7\\xd8\\xa8 \\xd9\\x85\\xd9\\x88\\xd8\\xb3\\xdb\\x8c\\xd9\\xb0 \\xd8\\xb9\\xd9\\x84\\xdb\\x8c\\xdb\\x81 \\xd8\\xa7\\xd9\\x84\\xd8\\xb3\\xd9\\x84\\xd8\\xa7\\xd9\\x85 \\xd8\\xae\\xd8\\xaf\\xd8\\xa7 \\xda\\xa9\\xdb\\x92 \\xd8\\xa8\\xd8\\xa7\\xd9\\xbe \\xd8\\xa7\\xd8\\xb3\\xd8\\xaa\\xd8\\xa7\\xd8\\xaf \\xda\\x86\\xda\\x86\\xd8\\xa7 \\xdb\\x8c\\xd8\\xa7 \\xd8\\xa2\\xd9\\x82\\xd8\\xa7 \\xdb\\x81\\xdb\\x8c\\xda\\xba\\xdb\\x94\\xdb\\x94\\xdb\\x94 \\xd8\\xac\\xd8\\xa8\\xda\\xa9\\xdb\\x81 \\xd8\\xaa\\xd9\\x85 \\xd9\\x84\\xd9\\x88\\xda\\xaf \\xda\\xa9\\xd8\\xa8\\xda\\xbe\\xdb\\x8c \\xd8\\xa8\\xda\\xbe\\xdb\\x8c \\xd8\\xa7\\xdb\\x8c\\xd8\\xb3\\xd8\\xa7 \\xd9\\x86\\xdb\\x81\\xdb\\x8c\\xda\\xba \\xda\\xa9\\xdb\\x81\\xd8\\xaa\\xdb\\x92\\xdb\\x94'\n",
            "Label: [0 0 0 0 0 0 0 0 0 0 0 0 0 0 0 0 0 0 0 0 0 1]\n",
            "Review: b'ba menggunakan kaus bernomor punggung  kemudian  saat bermain untuk hoffenheim dan  saat bermain untuk west ham united saat bermain untuk newcastle united ia menggunakan nomor punggung  setelah nomor punggung  telah digunakan andy carroll\\xe2\\x80\\x94sebelum dijual ke liverpool beberapa hari setelah ba bergabung oleh karena catatan golnya yang cukup baik muncul saran agar ia diberikan nomor punggung  pada musim keduanya namun ba memilih untuk tetap menggunakan nomor punggung  hingga akhir kariernya karena nomor tersebut ia anggap spesial dengan alasan yang mungkin ia akan jelaskan setelah ia pensiun kelak setelah resmi begabung ke chelsea ba kembali menggunakan nomor punggung  karena nomor  telah digunakan paulo ferreira'\n",
            "Label: [0 0 0 0 0 0 0 1 0 0 0 0 0 0 0 0 0 0 0 0 0 0]\n",
            "Review: b'hearsts grandfather william randolph hearst created the largest newspaper magazine newsreel and movie business in the world her great-grandmother was philanthropist phoebe hearst the family was associated with immense political influence and anti-communism going back to before world war ii'\n",
            "Label: [0 0 0 1 0 0 0 0 0 0 0 0 0 0 0 0 0 0 0 0 0 0]\n"
          ]
        }
      ]
    },
    {
      "cell_type": "code",
      "source": [
        "# Get number of unique words in entire dataset\n",
        "from collections import Counter\n",
        "results = Counter()\n",
        "df['Text'].str.split().apply(results.update) # Very computer intensive method\n",
        "len(results)#279515 unique words"
      ],
      "metadata": {
        "colab": {
          "base_uri": "https://localhost:8080/"
        },
        "id": "IlJaEhNMP53n",
        "outputId": "a59c5604-e7b9-4d3b-9979-b1a94211b67e"
      },
      "execution_count": 260,
      "outputs": [
        {
          "output_type": "execute_result",
          "data": {
            "text/plain": [
              "279515"
            ]
          },
          "metadata": {},
          "execution_count": 260
        }
      ]
    },
    {
      "cell_type": "code",
      "source": [
        "#Convert variable-length text data into a fixed-size vector\n",
        "max_features = 120000 # Total words to vectorize\n",
        "sequence_length = 22 # The length of a sentence\n",
        "\n",
        "vectorize_layer = TextVectorization(\n",
        "    max_tokens=max_features,\n",
        "    output_mode='int',\n",
        "    output_sequence_length=sequence_length)\n",
        "\n",
        "# Adapt to our text\n",
        "vectorize_layer.adapt([t for t in df['Text']])"
      ],
      "metadata": {
        "id": "gmX2EKWIQCmj"
      },
      "execution_count": 261,
      "outputs": []
    },
    {
      "cell_type": "code",
      "source": [
        "# Function to vectorize text\n",
        "def vectorize_text(text):\n",
        "    text = tf.expand_dims(text, -1)\n",
        "    return tf.dtypes.cast(vectorize_layer(text), tf.float32)"
      ],
      "metadata": {
        "id": "Ona1S7SVRszr"
      },
      "execution_count": 262,
      "outputs": []
    },
    {
      "cell_type": "code",
      "source": [
        "# Retrieve a batch from the dataset\n",
        "text_batch, label_batch = next(iter(raw_train_dataset))\n",
        "first_review, first_label = text_batch[0], label_batch[0]\n",
        "print(\"Review:\", first_review)\n",
        "print(\"Label:\", first_label)\n",
        "print(\"Vectorized review:\", vectorize_text(first_review))"
      ],
      "metadata": {
        "colab": {
          "base_uri": "https://localhost:8080/"
        },
        "id": "U1l-SfM2Ry6L",
        "outputId": "5914c34f-28eb-4927-f1f3-c4a73efd269a"
      },
      "execution_count": 263,
      "outputs": [
        {
          "output_type": "stream",
          "name": "stdout",
          "text": [
            "Review: tf.Tensor(b'\\xd8\\xa7\\xd8\\xb3 \\xda\\xa9\\xdb\\x92 \\xd8\\xb9\\xd9\\x84\\xd8\\xa7\\xd9\\x88\\xdb\\x81 \\xd8\\xa7\\xda\\xaf\\xd8\\xb1 \\xd8\\xaa\\xd9\\x85\\xdb\\x81\\xd8\\xa7\\xd8\\xb1\\xdb\\x8c \\xd8\\xaf\\xd9\\x84\\xdb\\x8c\\xd9\\x84 \\xdb\\x8c\\xdb\\x81\\xdb\\x8c \\xdb\\x81\\xdb\\x92 \\xda\\xa9\\xdb\\x81 \\xda\\x86\\xd9\\x88\\xd9\\x86\\xda\\xa9\\xdb\\x81 \\xd8\\xac\\xd9\\x86\\xd8\\xa7\\xd8\\xa8 \\xd8\\xa7\\xd8\\xa8\\xd8\\xb1\\xd8\\xa7\\xdb\\x81\\xdb\\x8c\\xd9\\x85 \\xd8\\xb9\\xd9\\x84\\xdb\\x8c\\xdb\\x81 \\xd8\\xa7\\xd9\\x84\\xd8\\xb3\\xd9\\x84\\xd8\\xa7\\xd9\\x85 \\xd8\\xae\\xd9\\x84\\xdb\\x8c\\xd9\\x84 \\xd8\\xae\\xd8\\xaf\\xd8\\xa7 \\xdb\\x81\\xdb\\x8c\\xda\\xba \\xd9\\x84\\xdb\\x81\\xd9\\xb0\\xd8\\xb0\\xd8\\xa7 \\xd9\\x88\\xdb\\x81 \\xd8\\xae\\xd8\\xaf\\xd8\\xa7 \\xda\\xa9\\xdb\\x92 \\xd8\\xa8\\xdb\\x8c\\xd9\\xb9\\xdb\\x92 \\xdb\\x81\\xdb\\x8c\\xda\\xba \\xd8\\xaa\\xd9\\x88 \\xd8\\xa7\\xd8\\xb3 \\xd8\\xa8\\xd9\\x86\\xdb\\x8c\\xd8\\xa7\\xd8\\xaf \\xd9\\xbe\\xd8\\xb1 \\xd8\\xaa\\xd9\\x85\\xdb\\x81\\xdb\\x8c\\xda\\xba \\xdb\\x8c\\xdb\\x81 \\xd8\\xa8\\xda\\xbe\\xdb\\x8c \\xda\\xa9\\xdb\\x81\\xd9\\x86\\xd8\\xa7 \\xda\\x86\\xd8\\xa7\\xdb\\x81\\xd8\\xa6\\xdb\\x92 \\xda\\xa9\\xdb\\x81 \\xd8\\xac\\xd9\\x86\\xd8\\xa7\\xd8\\xa8 \\xd9\\x85\\xd9\\x88\\xd8\\xb3\\xdb\\x8c\\xd9\\xb0 \\xd8\\xb9\\xd9\\x84\\xdb\\x8c\\xdb\\x81 \\xd8\\xa7\\xd9\\x84\\xd8\\xb3\\xd9\\x84\\xd8\\xa7\\xd9\\x85 \\xd8\\xa8\\xda\\xbe\\xdb\\x8c \\xd8\\xae\\xd8\\xaf\\xd8\\xa7 \\xda\\xa9\\xdb\\x92 \\xd8\\xa8\\xdb\\x8c\\xd9\\xb9\\xdb\\x92 \\xdb\\x81\\xdb\\x8c\\xda\\xba \\xd8\\xa8\\xd9\\x84\\xda\\xa9\\xdb\\x81 \\xd8\\xac\\xd8\\xb3 \\xd8\\xb7\\xd8\\xb1\\xd8\\xad \\xd9\\x85\\xdb\\x8c\\xda\\xba \\xd9\\x86\\xdb\\x92 \\xdb\\x8c\\xdb\\x81\\xd9\\x88\\xd8\\xaf\\xdb\\x8c \\xda\\xaf\\xd8\\xb1\\xd9\\x88\\xdb\\x81 \\xd8\\xb3\\xdb\\x92 \\xda\\xa9\\xdb\\x81\\xd8\\xa7 \\xd8\\xa7\\xda\\xaf\\xd8\\xb1 \\xdb\\x8c\\xdb\\x81 \\xd8\\xb7\\xdb\\x92 \\xdb\\x81\\xd9\\x88 \\xda\\xa9\\xdb\\x81 \\xd9\\x84\\xd9\\x88\\xda\\xaf\\xd9\\x88\\xda\\xba \\xda\\xa9\\xdb\\x92 \\xd9\\x85\\xd9\\x82\\xd8\\xa7\\xd9\\x85 \\xd9\\x88 \\xd8\\xb9\\xd8\\xb8\\xd9\\x85\\xd8\\xaa \\xda\\xa9\\xdb\\x8c \\xd9\\x88\\xd8\\xac\\xdb\\x81 \\xd8\\xb3\\xdb\\x92 \\xdb\\x8c\\xdb\\x81 \\xd9\\x86\\xd8\\xb3\\xd8\\xa8\\xd8\\xaa\\xdb\\x8c\\xda\\xba \\xd8\\xb5\\xd8\\xad\\xdb\\x8c\\xd8\\xad \\xdb\\x81\\xd9\\x88\\xda\\xba \\xd8\\xaa\\xd9\\x88 \\xda\\xa9\\xdb\\x81\\xd9\\x86\\xd8\\xa7 \\xda\\x86\\xd8\\xa7\\xdb\\x81\\xd8\\xa6\\xdb\\x92 \\xda\\xa9\\xdb\\x81 \\xd8\\xac\\xd9\\x86\\xd8\\xa7\\xd8\\xa8 \\xd9\\x85\\xd9\\x88\\xd8\\xb3\\xdb\\x8c\\xd9\\xb0 \\xd8\\xb9\\xd9\\x84\\xdb\\x8c\\xdb\\x81 \\xd8\\xa7\\xd9\\x84\\xd8\\xb3\\xd9\\x84\\xd8\\xa7\\xd9\\x85 \\xd8\\xae\\xd8\\xaf\\xd8\\xa7 \\xda\\xa9\\xdb\\x92 \\xd8\\xa8\\xd8\\xa7\\xd9\\xbe \\xd8\\xa7\\xd8\\xb3\\xd8\\xaa\\xd8\\xa7\\xd8\\xaf \\xda\\x86\\xda\\x86\\xd8\\xa7 \\xdb\\x8c\\xd8\\xa7 \\xd8\\xa2\\xd9\\x82\\xd8\\xa7 \\xdb\\x81\\xdb\\x8c\\xda\\xba\\xdb\\x94\\xdb\\x94\\xdb\\x94 \\xd8\\xac\\xd8\\xa8\\xda\\xa9\\xdb\\x81 \\xd8\\xaa\\xd9\\x85 \\xd9\\x84\\xd9\\x88\\xda\\xaf \\xda\\xa9\\xd8\\xa8\\xda\\xbe\\xdb\\x8c \\xd8\\xa8\\xda\\xbe\\xdb\\x8c \\xd8\\xa7\\xdb\\x8c\\xd8\\xb3\\xd8\\xa7 \\xd9\\x86\\xdb\\x81\\xdb\\x8c\\xda\\xba \\xda\\xa9\\xdb\\x81\\xd8\\xaa\\xdb\\x92\\xdb\\x94', shape=(), dtype=string)\n",
            "Label: tf.Tensor([0 0 0 0 0 0 0 0 0 0 0 0 0 0 0 0 0 0 0 0 0 1], shape=(22,), dtype=uint8)\n",
            "Vectorized review: tf.Tensor(\n",
            "[[   90.    25.  1685.   935. 15166.  1025.  6183.    79.   223.  7004.\n",
            "   3233.  8756.   803.  1311.  6239.  1281.   195. 14979.   397.  1281.\n",
            "     25.  4853.]], shape=(1, 22), dtype=float32)\n"
          ]
        }
      ]
    },
    {
      "cell_type": "code",
      "source": [
        "# Apply the TextVectorization step to the train and test dataset\n",
        "train_ds = raw_train_dataset.map(lambda x,y: (vectorize_text(x), y))\n",
        "test_ds = raw_test_dataset.map(lambda x ,y: (vectorize_text(x) , y))"
      ],
      "metadata": {
        "id": "YLNrkKvJSWv2"
      },
      "execution_count": 264,
      "outputs": []
    },
    {
      "cell_type": "code",
      "source": [
        "# Performance measures for faster training\n",
        "AUTOTUNE = tf.data.experimental.AUTOTUNE\n",
        "\n",
        "train_ds = train_ds.cache().prefetch(buffer_size=AUTOTUNE)\n",
        "test_ds = test_ds.cache().prefetch(buffer_size=AUTOTUNE)"
      ],
      "metadata": {
        "id": "1P931XDQSlYa"
      },
      "execution_count": 265,
      "outputs": []
    },
    {
      "cell_type": "code",
      "source": [
        "len(df.columns)"
      ],
      "metadata": {
        "colab": {
          "base_uri": "https://localhost:8080/"
        },
        "id": "AyoaeHisWMG8",
        "outputId": "018342fa-9604-443f-bd99-910754fab26e"
      },
      "execution_count": 266,
      "outputs": [
        {
          "output_type": "execute_result",
          "data": {
            "text/plain": [
              "23"
            ]
          },
          "metadata": {},
          "execution_count": 266
        }
      ]
    },
    {
      "cell_type": "code",
      "source": [
        "tf.keras.backend.clear_session()\n",
        "\n",
        "embedding_dim = 16\n",
        "\n",
        "model = tf.keras.Sequential([\n",
        "    layers.Embedding(max_features + 1, embedding_dim, input_length=22),\n",
        "    layers.GlobalAveragePooling1D(),\n",
        "    layers.Dense(128, activation=tf.nn.relu),\n",
        "    layers.Dense(64, activation=tf.nn.relu),\n",
        "    layers.Dense(32, activation=tf.nn.relu),\n",
        "    layers.Dense(22, activation=tf.nn.softmax),\n",
        "])\n",
        "\n",
        "model.summary()"
      ],
      "metadata": {
        "colab": {
          "base_uri": "https://localhost:8080/"
        },
        "id": "rADDsq3KS_nn",
        "outputId": "9ef281e7-87f6-4cbc-bbff-4df30cddfe60"
      },
      "execution_count": 267,
      "outputs": [
        {
          "output_type": "stream",
          "name": "stdout",
          "text": [
            "Model: \"sequential\"\n",
            "_________________________________________________________________\n",
            " Layer (type)                Output Shape              Param #   \n",
            "=================================================================\n",
            " embedding (Embedding)       (None, 22, 16)            1920016   \n",
            "                                                                 \n",
            " global_average_pooling1d (  (None, 16)                0         \n",
            " GlobalAveragePooling1D)                                         \n",
            "                                                                 \n",
            " dense (Dense)               (None, 128)               2176      \n",
            "                                                                 \n",
            " dense_1 (Dense)             (None, 64)                8256      \n",
            "                                                                 \n",
            " dense_2 (Dense)             (None, 32)                2080      \n",
            "                                                                 \n",
            " dense_3 (Dense)             (None, 22)                726       \n",
            "                                                                 \n",
            "=================================================================\n",
            "Total params: 1933254 (7.37 MB)\n",
            "Trainable params: 1933254 (7.37 MB)\n",
            "Non-trainable params: 0 (0.00 Byte)\n",
            "_________________________________________________________________\n"
          ]
        }
      ]
    },
    {
      "cell_type": "code",
      "source": [
        "model.compile(loss='categorical_crossentropy',\n",
        "              optimizer='adam',\n",
        "              metrics=['accuracy'])"
      ],
      "metadata": {
        "id": "vuWViVEdTaBk"
      },
      "execution_count": 268,
      "outputs": []
    },
    {
      "cell_type": "code",
      "source": [
        "epochs = 1\n",
        "history = model.fit(\n",
        "    train_ds,\n",
        "    epochs=epochs\n",
        ")"
      ],
      "metadata": {
        "colab": {
          "base_uri": "https://localhost:8080/"
        },
        "id": "cJ2z_XjdTegd",
        "outputId": "29fc6849-384c-411b-a6f5-c1b6332262c2"
      },
      "execution_count": 269,
      "outputs": [
        {
          "output_type": "stream",
          "name": "stdout",
          "text": [
            "482/482 [==============================] - 16s 30ms/step - loss: 1.3271 - accuracy: 0.6158\n"
          ]
        }
      ]
    },
    {
      "cell_type": "code",
      "source": [
        "loss, accuracy = model.evaluate(test_ds)\n",
        "\n",
        "print(\"Loss: \", loss)\n",
        "print(\"Accuracy: \", accuracy)"
      ],
      "metadata": {
        "colab": {
          "base_uri": "https://localhost:8080/"
        },
        "id": "dDDXE2nOWXU8",
        "outputId": "d51931b6-7208-40ba-b5e7-1a7a5dc5c613"
      },
      "execution_count": 270,
      "outputs": [
        {
          "output_type": "stream",
          "name": "stdout",
          "text": [
            "207/207 [==============================] - 1s 2ms/step - loss: 0.3701 - accuracy: 0.8977\n",
            "Loss:  0.37007051706314087\n",
            "Accuracy:  0.897742748260498\n"
          ]
        }
      ]
    },
    {
      "cell_type": "code",
      "source": [
        "\n",
        "to_predict = [text]\n",
        "# Vectorize text before giving it to the model\n",
        "to_predict = vectorize_layer(to_predict)\n",
        "prediction = model.predict(to_predict)\n",
        "\n",
        "classes = df.columns[1:]\n",
        "\n",
        "highest_prediction = tf.math.argmax(prediction, 1).numpy()\n",
        "print(highest_prediction)\n",
        "print(classes[highest_prediction[0]])\n",
        "print(f\"Certainty: {prediction[0][highest_prediction][0] * 100}%\")"
      ],
      "metadata": {
        "colab": {
          "base_uri": "https://localhost:8080/"
        },
        "id": "Q7kI8eS1aBfc",
        "outputId": "85dc3bfe-b938-4618-8172-76da4515a081"
      },
      "execution_count": 294,
      "outputs": [
        {
          "output_type": "stream",
          "name": "stdout",
          "text": [
            "1/1 [==============================] - 0s 174ms/step\n",
            "[4]\n",
            "lan_Estonian\n",
            "Certainty: 96.4853584766388%\n"
          ]
        }
      ]
    },
    {
      "cell_type": "code",
      "source": [
        "text = df.iloc[8]['Text']\n",
        "text = 'surnukeha palsameeriti ning paigutati mausoleumi surnukeha oli aga liiga hilja ja oskamatult palsameeritud ning hakkas ilmutama lagunemise tundemärke  aastal viidi ta surnukeha mausoleu'"
      ],
      "metadata": {
        "id": "bkxlpXeKe1VL"
      },
      "execution_count": 291,
      "outputs": []
    }
  ]
}